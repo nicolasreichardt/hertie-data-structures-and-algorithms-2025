{
 "cells": [
  {
   "cell_type": "markdown",
   "id": "31afdc92",
   "metadata": {},
   "source": [
    "# Python Data Structures Exercises\n",
    "\n",
    "In this notebook, we'll cover exercises for lists, list comprehension, dictionaries, and dictionary comprehension. Each exercise will be accompanied by its solution and an explanation of time and space complexity."
   ]
  },
  {
   "cell_type": "markdown",
   "id": "43854555",
   "metadata": {},
   "source": [
    "## Lists Exercises\n",
    "\n",
    "### Exercise 1: Sum of Even Numbers\n",
    "Write a function that takes a list of integers and returns the sum of all even numbers in the list.\n",
    "\n",
    "#### Solution:"
   ]
  },
  {
   "cell_type": "code",
   "execution_count": 14,
   "id": "8c2449df",
   "metadata": {},
   "outputs": [
    {
     "name": "stdout",
     "output_type": "stream",
     "text": [
      "[1, 1, 7, 2, 9, 9, 2, 9, 6, 3]\n"
     ]
    },
    {
     "data": {
      "text/plain": [
       "10"
      ]
     },
     "execution_count": 14,
     "metadata": {},
     "output_type": "execute_result"
    }
   ],
   "source": [
    "import random\n",
    "\n",
    "# Assign a list of 10 random numbers\n",
    "integer_list = random.choices(range(1, 10), k=10)\n",
    "print(integer_list)\n",
    "\n",
    "# Define function\n",
    "def sum_even(list):\n",
    "    sum_even_numbers = 0\n",
    "    for x in list:\n",
    "        if x % 2 == 0:\n",
    "            sum_even_numbers += x\n",
    "    return(sum_even_numbers)\n",
    "\n",
    "#Test function \n",
    "sum_even(integer_list)\n",
    "\n"
   ]
  },
  {
   "cell_type": "code",
   "execution_count": null,
   "id": "585f85a8",
   "metadata": {},
   "outputs": [],
   "source": []
  },
  {
   "cell_type": "code",
   "execution_count": 8,
   "id": "64993ca2-f107-4128-b72a-cbb7a81651ee",
   "metadata": {},
   "outputs": [
    {
     "name": "stdout",
     "output_type": "stream",
     "text": [
      "30\n"
     ]
    }
   ],
   "source": [
    "def sum_of_even_numbers(lst):\n",
    "    current_sum = 0\n",
    "    for num in lst:\n",
    "        if num % 2 == 0:\n",
    "            current_sum += num\n",
    "    return current_sum\n",
    "\n",
    "# Test the function\n",
    "numbers = [1, 2, 3, 4, 5, 6, 7, 8, 9, 10]\n",
    "print(sum_of_even_numbers(numbers))  # Output should be 30"
   ]
  },
  {
   "cell_type": "markdown",
   "id": "ec192c59",
   "metadata": {},
   "source": [
    "#### Time Complexity:\n",
    "The time complexity of this solution is O(n), where n is the number of elements in the input list. We iterate through the list once to check each element.\n",
    "\n",
    "#### Space Complexity:\n",
    "The space complexity is O(1) because we only use a constant amount of extra space regardless of the size of the input list."
   ]
  },
  {
   "cell_type": "markdown",
   "id": "551e3b78",
   "metadata": {},
   "source": [
    "## List Comprehension Exercises\n",
    "\n",
    "### Exercise 2: Squares of Even Numbers\n",
    "Write a function that takes a list of integers and returns a list containing the squares of all even numbers in the input list.\n",
    "\n",
    "#### Solution:"
   ]
  },
  {
   "cell_type": "code",
   "execution_count": 19,
   "id": "37bfddcd",
   "metadata": {},
   "outputs": [
    {
     "name": "stdout",
     "output_type": "stream",
     "text": [
      "[6, 8, 6, 8, 6, 6, 7, 6, 6, 1]\n"
     ]
    },
    {
     "data": {
      "text/plain": [
       "[36, 64, 36, 64, 36, 36, 36, 36]"
      ]
     },
     "execution_count": 19,
     "metadata": {},
     "output_type": "execute_result"
    }
   ],
   "source": [
    "# Define a list of integers\n",
    "integer_list2 = random.choices(range(1, 10), k=10)\n",
    "print(integer_list2)\n",
    "\n",
    "# Define function \n",
    "def square_root_even(list):\n",
    "    squares_list = []\n",
    "    for x in list:\n",
    "        if x % 2 == 0:\n",
    "            squares_list.append(x*x)\n",
    "    return squares_list\n",
    "\n",
    "# Test function\n",
    "square_root_even(integer_list2)\n",
    "\n",
    "\n",
    "### TO IMPROVE: the square of an int x can be written as: x ** 2 \n",
    "\n",
    "\n"
   ]
  },
  {
   "cell_type": "code",
   "execution_count": 9,
   "id": "5d6c39a7-51fb-4b0c-8d3e-bd68d2f898db",
   "metadata": {},
   "outputs": [
    {
     "name": "stdout",
     "output_type": "stream",
     "text": [
      "[4, 16, 36, 64, 100]\n"
     ]
    }
   ],
   "source": [
    "def squares_of_even_numbers(lst):\n",
    "    squares = []\n",
    "    for num in lst:\n",
    "        if num % 2 == 0:\n",
    "            squares.append(num ** 2)\n",
    "    return squares\n",
    "\n",
    "# Test the function\n",
    "numbers = [1, 2, 3, 4, 5, 6, 7, 8, 9, 10]\n",
    "print(squares_of_even_numbers(numbers))  # Output should be [4, 16, 36, 64, 100]"
   ]
  },
  {
   "cell_type": "code",
   "execution_count": 10,
   "id": "dbd57988",
   "metadata": {},
   "outputs": [
    {
     "name": "stdout",
     "output_type": "stream",
     "text": [
      "[4, 16, 36, 64, 100]\n"
     ]
    }
   ],
   "source": [
    "def squares_of_even_numbers(lst):\n",
    "    return [num ** 2 for num in lst if num % 2 == 0]\n",
    "\n",
    "# Test the function\n",
    "numbers = [1, 2, 3, 4, 5, 6, 7, 8, 9, 10]\n",
    "print(squares_of_even_numbers(numbers))  # Output should be [4, 16, 36, 64, 100]"
   ]
  },
  {
   "cell_type": "markdown",
   "id": "ab25933e",
   "metadata": {},
   "source": [
    "#### Time Complexity:\n",
    "The time complexity of this solution is O(n), where n is the number of elements in the input list. We iterate through the list once to apply the square operation to each even number.\n",
    "\n",
    "#### Space Complexity:\n",
    "The space complexity is O(k), where k is the number of even numbers in the input list. The space required to store the output list depends on the number of even numbers."
   ]
  },
  {
   "cell_type": "markdown",
   "id": "93dec1cf",
   "metadata": {},
   "source": [
    "## Dictionaries Exercises\n",
    "\n",
    "### Exercise 3: Word Frequency\n",
    "Write a function that takes a list of words and returns a dictionary where the keys are the words and the values are their frequencies.\n",
    "\n",
    "#### Solution:"
   ]
  },
  {
   "cell_type": "code",
   "execution_count": 18,
   "id": "70222b12",
   "metadata": {},
   "outputs": [
    {
     "data": {
      "text/plain": [
       "{'Apple': 1, 'Pear': 2, 'Lemon': 1, 'Orange': 1}"
      ]
     },
     "execution_count": 18,
     "metadata": {},
     "output_type": "execute_result"
    }
   ],
   "source": [
    "# Define a list of words and an empty dictionary\n",
    "word_list = [\"Apple\", \"Pear\", \"Pear\", \"Lemon\", \"Orange\"]\n",
    "word_dictionary = {}\n",
    "\n",
    "# Define function\n",
    "def dictionary_creator(list):\n",
    "    for word in list:\n",
    "        if word not in word_dictionary:\n",
    "            word_dictionary[word] = 1\n",
    "        else:\n",
    "            word_dictionary[word] += 1\n",
    "    return(word_dictionary)\n",
    "\n",
    "# Test function\n",
    "dictionary_creator(word_list)\n",
    "\n",
    "### TO IMPROVE: The return statement doesn't need the brackets!\n",
    "\n",
    "\n",
    " "
   ]
  },
  {
   "cell_type": "code",
   "execution_count": 11,
   "id": "f8836fa9-7d57-45b7-aeb3-99f1bf2af07b",
   "metadata": {},
   "outputs": [
    {
     "name": "stdout",
     "output_type": "stream",
     "text": [
      "{'apple': 3, 'banana': 2, 'orange': 1}\n"
     ]
    }
   ],
   "source": [
    "def word_frequency(words):\n",
    "    frequency = {}\n",
    "    for word in words:\n",
    "        if word in frequency:\n",
    "            frequency[word] += 1\n",
    "        else:\n",
    "            frequency[word] = 1\n",
    "    return frequency\n",
    "\n",
    "# Test the function\n",
    "words = ['apple', 'banana', 'apple', 'orange', 'banana', 'apple']\n",
    "print(word_frequency(words))  # Output should be {'apple': 3, 'banana': 2, 'orange': 1}"
   ]
  },
  {
   "cell_type": "markdown",
   "id": "c9ab7342",
   "metadata": {},
   "source": [
    "#### Time Complexity:\n",
    "The time complexity of this solution is O(n), where n is the number of words in the input list. We iterate through the list once to count the frequency of each word.\n",
    "\n",
    "#### Space Complexity:\n",
    "The space complexity is O(m), where m is the number of unique words in the input list. We store the frequency of each unique word in the dictionary."
   ]
  },
  {
   "cell_type": "markdown",
   "id": "f1e3957e-5e78-41aa-9078-55cc6ce23ae1",
   "metadata": {},
   "source": [
    "## Dictionary Comprehension Exercises"
   ]
  },
  {
   "cell_type": "markdown",
   "id": "3a183b88-89d0-411f-a636-6d4d8ab53d4c",
   "metadata": {},
   "source": [
    "### Exercise 4: Squares of Numbers\n",
    "Write a function that takes a list of numbers as input and creates a dictionary where each number is a key,  and the value corresponding to each key is the square of that number.\n",
    "\n",
    "#### Solution:"
   ]
  },
  {
   "cell_type": "code",
   "execution_count": 26,
   "id": "0762a57e",
   "metadata": {},
   "outputs": [
    {
     "name": "stdout",
     "output_type": "stream",
     "text": [
      "[3, 9, 4, 8, 4, 2, 5, 1, 6, 9]\n",
      "{3: 9, 9: 81, 4: 16, 8: 64, 2: 4, 5: 25, 1: 1, 6: 36}\n",
      "{3: 9, 9: 81, 4: 16, 8: 64, 2: 4, 5: 25, 1: 1, 6: 36}\n"
     ]
    }
   ],
   "source": [
    "# Define list of numbers \n",
    "integer_list3 = random.choices(range(1, 10), k=10)\n",
    "print(integer_list3)\n",
    "\n",
    "# Define function\n",
    "def num_to_dictionary(list):\n",
    "    square_dictionary = {}\n",
    "    for x in list:\n",
    "        square_dictionary[x] = x ** 2\n",
    "    return square_dictionary\n",
    "\n",
    "# Try to do this in one line\n",
    "def num_to_dictionary2(list):\n",
    "    return {x: x ** 2 for x in list}\n",
    "\n",
    "# Testing both functions\n",
    "print(num_to_dictionary(integer_list3))\n",
    "print(num_to_dictionary2(integer_list3))\n",
    "\n",
    "### GOOD TO KNOW: Only the last function return is printed.\n",
    "### If I want to see the result of more functions, I need to print them.\n"
   ]
  },
  {
   "cell_type": "code",
   "execution_count": 13,
   "id": "e140d303-3a4b-4acf-8c28-3f8efb0f4355",
   "metadata": {},
   "outputs": [],
   "source": [
    "def list_to_dict_with_comprehension(lst):\n",
    "    return {item: item ** 2 for item in lst}"
   ]
  },
  {
   "cell_type": "markdown",
   "id": "0a1a45b0-8d0a-4a34-b6fd-b407f175109f",
   "metadata": {},
   "source": [
    "#### Time Complexity:\n",
    "The time complexity of this solution is O(n), where n is the number of items in the input list. \n",
    "This is because the dictionary comprehension iterates through each item in the list once to create the dictionary.\n",
    "\n",
    "#### Space Complexity:\n",
    "The space complexity is O(n), where n is the number of items in the input list. \n",
    "The dictionary created by the comprehension will have the same number of key-value pairs as the input list."
   ]
  },
  {
   "cell_type": "markdown",
   "id": "2a1642d7",
   "metadata": {},
   "source": [
    "### Exercise 5: Squares of Numbers\n",
    "Write a function that takes a dictionary containing integer keys and returns a new dictionary where the keys are the squares of the original keys.\n",
    "\n",
    "#### Solution:"
   ]
  },
  {
   "cell_type": "code",
   "execution_count": 29,
   "id": "968301e8",
   "metadata": {},
   "outputs": [
    {
     "data": {
      "text/plain": [
       "{1: 3, 4: 5, 9: 10}"
      ]
     },
     "execution_count": 29,
     "metadata": {},
     "output_type": "execute_result"
    }
   ],
   "source": [
    "# Define dictionary with integer keys\n",
    "integer_dic = {1: 3, 2: 5, 3: 10}\n",
    "\n",
    "def square_dic(dictionary):\n",
    "    return {x ** 2: dictionary[x] for x in dictionary}\n",
    "\n",
    "square_dic(integer_dic)"
   ]
  },
  {
   "cell_type": "code",
   "execution_count": 14,
   "id": "4d3f244b",
   "metadata": {},
   "outputs": [
    {
     "name": "stdout",
     "output_type": "stream",
     "text": [
      "{1: 10, 4: 20, 9: 30, 16: 40, 25: 50}\n"
     ]
    }
   ],
   "source": [
    "def squares_of_numbers(dictionary):\n",
    "    return {key ** 2: value for key, value in dictionary.items()}\n",
    "\n",
    "# Test the function\n",
    "numbers = {1: 10, 2: 20, 3: 30, 4: 40, 5: 50}\n",
    "print(squares_of_numbers(numbers))  # Output should be {1: 10, 4: 20, 9: 30, 16: 40, 25: 50}"
   ]
  },
  {
   "cell_type": "markdown",
   "id": "e89ba99d",
   "metadata": {},
   "source": [
    "#### Time Complexity:\n",
    "The time complexity of this solution is O(n), where n is the number of key-value pairs in the input dictionary. We iterate through each key-value pair once.\n",
    "\n",
    "#### Space Complexity:\n",
    "The space complexity is O(n), where n is the number of key-value pairs in the input dictionary. We create a new dictionary with the same number of key-value pairs."
   ]
  }
 ],
 "metadata": {
  "kernelspec": {
   "display_name": "dsa",
   "language": "python",
   "name": "python3"
  },
  "language_info": {
   "codemirror_mode": {
    "name": "ipython",
    "version": 3
   },
   "file_extension": ".py",
   "mimetype": "text/x-python",
   "name": "python",
   "nbconvert_exporter": "python",
   "pygments_lexer": "ipython3",
   "version": "3.11.11"
  }
 },
 "nbformat": 4,
 "nbformat_minor": 5
}
