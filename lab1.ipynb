{
 "cells": [
  {
   "cell_type": "markdown",
   "metadata": {},
   "source": [
    "# Lab 1: Introduction & Set up\n",
    "## Data Structures & Algorithms\n",
    "### Week 1 \n",
    "*12-13/02/2025*\n",
    "\n",
    "change here"
   ]
  },
  {
   "cell_type": "markdown",
   "metadata": {},
   "source": [
    "## Today\n",
    "\n",
    "* [Some preliminary stuff for the DS&A labs.](#prelim)\n",
    "* [Helpful tools](#tools)\n",
    "* [Setting up a new project...](#setup)\n",
    "* [Good coding practice :)](#goodcoding)\n",
    "* [Before you get started](#getstarted) (optional)\n",
    "* [Let's start coding!](#exercises)"
   ]
  },
  {
   "cell_type": "markdown",
   "metadata": {},
   "source": [
    "# Some preliminary stuff. <a class=\"anchor\" id=\"prelim\"></a>"
   ]
  },
  {
   "cell_type": "markdown",
   "metadata": {},
   "source": [
    "### How will these labs be structured?\n",
    "\n",
    "I will try to make the lab materials available 24-48 hrs in advance for those who wish to familiarise themselves with the content in advance (entirely optional, not-mandatory!)\n",
    "\n",
    "Labs themselves will be 90 minutes in total, divided into:\n",
    "1. Taught content for the week, as well as refresher on content covered in the lectures / previous labs,\n",
    "2. Exercises (individual / collaborative - either OK!),\n",
    "3. Any other coding-related work & questions, **if there is time**. Otherwise, reach out to me over email: 228755@students.hertie-school.org"
   ]
  },
  {
   "cell_type": "markdown",
   "metadata": {},
   "source": [
    "### Lab 'rules' / advice\n",
    "\n",
    "- There are **no stupid questions.**\n",
    "\n",
    "- **Debugging is part of coding.** If your code doesn’t work, that’s normal! Learn to read error messages, print intermediate outputs, and systematically isolate problems. Debugging is a key skill—not an obstacle.\n",
    "\n",
    "- **Try it yourself** before asking others / Google / Stack Overflow / ChatGPT (/ LLM of your choice)\n",
    "    - Especially for the ChatGPT route, I highly recommend reading the **full output** explaining what was wrong with the input code and what ChatGPT is changing rather than blindly copying the provided code chunk. This is both a great way to learn, and also helps you as a coder to proactively identify instances where ChatGPT has got stuck.\n",
    "\n",
    "- **Version control is your friend.** Use Git (even locally) to track changes and avoid catastrophic losses. Commit often with meaningful messages.\n",
    "\n",
    "- We are a heterogeneous class with varying levels of comfort and experience in coding - specifically in Python. As with Maths for Data Science, my approach is to try to provide assistance that is most useful to as many of you as possible. This means, if we are covering material you are already comfortable with, please feel free to sit nearer the back of the lab and work at your own pace. I do **expect everyone to go through the materials at least once**, to make sure there's no knowledge gaps, but I don't intend to waste time for those students with more advanced skills. If that's you, please treat these as a useful refresher.\n",
    "\n",
    "- The final result of this course is delivery of a Flask Web App - that's no small thing for a non-technical intake, appreciate that this is a stretch and that by the end you will have concrete and professionally-relevant skills that you did not have beforehand.\n",
    "\n",
    "- **Enjoy the class** and appreciate that's it's a challenge - writing good code is fiddly, frustrating & satisfying!\n"
   ]
  },
  {
   "cell_type": "markdown",
   "metadata": {},
   "source": [
    "### Access lab resources and exercises\n",
    "You will find the Jupyter notebooks for the labs at [https://github.com/henrycgbaker/data_structures_and_algorithms_2025](https://github.com/henrycgbaker/data_structures_and_algorithms_2025). \n",
    "\n",
    "To access the Jupyter notebooks, the easiest thing is to `git clone` the repository. To do this, you'll need to install Git (if you haven't already done so for IDS) and learn some basic terminal commands.\n",
    "\n",
    "You can open the terminal by searching for terminal (Mac), or open Command Prompt or Git Bash. (Windows)\n",
    "\n",
    "### Installing Git\n",
    "#### For Windows:\n",
    "1. Visit [git-scm.com](git-scm.com) and download the Windows installer.\n",
    "2. During installation, select \"Git from the command line\" when prompted.\n",
    "3. After installation, open Command Prompt (search for \"cmd\") and verify the installation: ```git --version``` in command line.\n",
    "\n",
    "#### For Mac: \n",
    "\n",
    "1. Install Homebrew (if you don't have it): ```/bin/bash -c \"$(curl -fsSL https://raw.githubusercontent.com/Homebrew/install/HEAD/install.sh)\"```\n",
    "2. Install Git using Homebrew: ```brew install git``` \n",
    "*Alternatively, you can download Git directly from [git-scm.com](git-scm.com).*\n",
    "3. Verify installation: by running ```git --version```\n",
    "\n",
    "---\n",
    "### Cloning the Repository:\n",
    "\n",
    "Next we will need to clone the repository into our local machine. This can be done by navigating within the terminal to the desired directory and typing the ```git clone``` command. \n",
    "\n",
    "1. In-terminal, navigate to where you would like to set up your repository (I recommend that you create a directory called ```repositories``` either at the root directory, or within your documents directory).  \n",
    "*Useful commands can be found in the [Helpful Tools](#helpful-tools) section below.*\n",
    "2. Clone the repo:\n",
    "\n",
    "```\n",
    "git clone https://github.com/henrycgbaker/data_structures_and_algorithms_2025.git\n",
    "\n",
    "```\n",
    "This will create a directory (in whichever folder your terminal is currently operating in) and copy the remote repository into your local machine. \n",
    "\n",
    "---\n",
    "\n",
    "### Running Jupyter Notebooks:\n",
    "Once you've cloned the repository, follow the guide in the [Before you get started](#getstarted) section for a step-by-step walkthrough on how to run Jupyter Notebooks.\n",
    "\n",
    "📌 Note: All lab materials will be distributed via GitHub, not Moodle. Check the repository regularly for updates (syncing it will download the new material each week)."
   ]
  },
  {
   "cell_type": "markdown",
   "metadata": {},
   "source": [
    "## Helpful tools <a class=\"anchor\" id=\"tools\"></a>"
   ]
  },
  {
   "cell_type": "markdown",
   "metadata": {},
   "source": [
    "Here is a list of tools and resources that can help you along the way. Use these to go through the steps in the [Before you get started](#getstarted) section.\n",
    "\n",
    "* **How to work with the command line?** It's useful for anyone working with data and code to know how to use the command line (aka terminal/shell), this [article](https://www.dataquest.io/blog/why-learn-the-command-line/) explains why. [Here](https://tutorial.djangogirls.org/en/intro_to_command_line/) is an introduction of the most important commands on different operating systems. Using [TMUX](https://deliciousbrains.com/tmux-for-local-development/#what-is-tmux) will make using the command line much easier! \n",
    "* **How to install Python and keep track of dependencies?** I highly recommend using a virtual environment, ideally with [miniconda](https://docs.anaconda.com/free/miniconda/#quick-command-line-install)! Miniconda [CHEATSHEET](https://docs.conda.io/projects/conda/en/latest/_downloads/843d9e0198f2a193a3484886fa28163c/conda-cheatsheet.pdf)\n",
    "* **Where/how to write your code?** Choose an integrated development environment (IDE) or code editor (I recommend [VSCode](https://code.visualstudio.com/) or [PyCharm](https://www.dataquest.io/blog/how-to-set-up-pycharm-community-edition/)) and install [Jupyter Notebooks](https://realpython.com/jupyter-notebook-introduction/) for code experimentation (and to run the DS&A labs), and use Jupyter [keyboard shortcuts](https://towardsdatascience.com/jypyter-notebook-shortcuts-bf0101a98330).\n",
    "* **How to keep track of changes?** [Download and install Git](https://www.atlassian.com/git/tutorials/install-git)! Git [CHEATSHEET](https://education.github.com/git-cheat-sheet-education.pdf)\n",
    "* **How to collaborate?** Sign up to GitHub.\n",
    "* **How to write basic syntax in Python?** Look at this [CHEATSHEET](https://www.pythoncheatsheet.org/cheatsheet/basics) or use StackOverflow."
   ]
  },
  {
   "cell_type": "markdown",
   "metadata": {},
   "source": [
    "# Setting up a new project <a class=\"anchor\" id=\"setup\"></a>"
   ]
  },
  {
   "cell_type": "markdown",
   "metadata": {},
   "source": [
    "Here are some best-practice steps you can take *every time* you start a new project (including a 'project' for what we'll be doing in DS&A labs), to keep your code organised, sharable, and up-to-date. The [Before you get started](#getstarted) section below goes through these steps one by one.\n",
    "\n",
    "1. **Create a new directory** for each project! (I recommend having a dedicated `repositories` folder near root directory)\n",
    "2. **Set up a virtual environment** with your preferred Python version using conda.\n",
    "3. **Install jupyter** into this environment by running the command: ```conda install jupyter```\n",
    "4. **Set up a new project in your IDE (VSCode / PyCharm)**, selecting your preferred Python installation as the interpreter (ideally the one you just created using conda).\n",
    "5. **Set up git** (create .gitignore, initialise, first commit, etc.).\n",
    "6. **Start jupyter** within your environment by running the command: `jupyter notebook` (or open the `.pynb` file with your preferred IDE)"
   ]
  },
  {
   "cell_type": "markdown",
   "metadata": {},
   "source": [
    "# Refresher: some best practice for coding <a class=\"anchor\" id=\"goodcoding\"></a>"
   ]
  },
  {
   "cell_type": "markdown",
   "metadata": {},
   "source": [
    "The course textbooks are a great resource and there are many blog posts on best-practice for coding. Here's a very top-line summary:\n",
    "\n",
    "* Think carefully about naming conventions for variables, classes and functions\n",
    "* Write good documentation and comments\n",
    "* Make sure your code is reusable and scalable\n",
    "    * Once you find yourself repeating a bit of code, write a function for it.\n",
    "    * High cohesion (code *within* modules/classes/functions should be closely related).\n",
    "    * Low coupling (code in *different* modules/classes/functions should depend on each other as little as possible).\n",
    "* Test your code (the smaller the units you test, the easier you will make your life in the future).\n",
    "* Track your changes; remember to use version control so that your collaborators and future self understand what you have changed/added!"
   ]
  },
  {
   "cell_type": "markdown",
   "metadata": {},
   "source": [
    "# Before you get started <a class=\"anchor\" id=\"getstarted\"></a>"
   ]
  },
  {
   "cell_type": "markdown",
   "metadata": {},
   "source": [
    "If you have been coding in Python for a while and already have your preferred set-up, you can skip this section and go on to the coding exercises. Otherwise, go through the following steps to create a handy and easily reproducible coding environment, before you dive into the coding exercises. Doing this once will very likely make your coding experience in the future much easier, even if it seems like a hassle in the beginning. **Use the resources and links listed in the [Helpful tools](#tools) section.**\n",
    "\n",
    "### 1. Familiarise yourself with the command line\n",
    "Being familiar with the command line, and being used to working with it, will help you set up and navigate data processing pipelines, work with data that is stored remotely (i.e. not on your local computer), switch between different programmes, and deploy web apps (something we'll be doing by the end of this course). \n",
    "\n",
    "It's a little unwiedlely at first and not necessarily intuitive, but essential and worth putting in a little time initially to get familiar. If you have never used the command line before, open the command line introduction and make yourself familiar with the commands to:\n",
    "1. how to print the information of the current directory: `pwd` \n",
    "    - \"print working directory\".\n",
    "    - outputs the full path to the current directory you're working in.\n",
    "    - an absolute path\n",
    "    - e.g. `/home/user/projects`\n",
    "2. move between directories (aka folders)\" `cd`\n",
    "    - \"change directory\"\n",
    "    - `cd repositories`\n",
    "    - `cd ..`\n",
    "    - `cd ~` (`~` represents home dir)\n",
    "    - absolute vs relative paths\n",
    "3. how to print a list of files and subdirectories within the current directory: `ls`\n",
    "    - \"list\"\n",
    "    - `ls -l` - detailed information (like permissions, sizes, and timestamps)\n",
    "    - `ls -a` - list files and folders including hidden ones (those starting with .)\n",
    "    - NB: can combine flags: `ls -la`\n",
    "4. create new directories: `mkdir`\n",
    "    - \"make directory\"\n",
    "    - `mkdir dir1 dir2 dir3`\n",
    "    - `mkdir -p parent_dir/child_dir/grandchild_dir` (directory with nested subdirectories, using `-p` flag)\n",
    "    - NB: `-p` ensures all parent directories are created if they don’t exist; without `-p`, you would get an error if parent_dir didn’t already exist.\n",
    "5. remove files and folders: `rm`\n",
    "    - \"remove\"\n",
    "    - remove file: `rm filename`\n",
    "    - remove (empty) directory `rmdir directory_name`\n",
    "    - remove directory w/ its contents: `rm -r directory_name` (`-r`: recursive flag)\n",
    "6. (optional and slightly more advanced) a really helpful tool for simplifying the command line is TMUX (terminal multiplexer), so you can run multiple terminal (command line) windows in parallel.\n",
    "\n",
    "### 2. Set up a tool for virtual environments\n",
    "Virtual environments are a great way to separate your package dependencies and even your Python versions. We'll be using a dedicated virtual environment for this course as well as ML (and future Hertie techical courses).\n",
    "\n",
    "I recommend miniconda (called `conda`) -- since it is not limited to Python; you can even set up an R environment with conda. \n",
    "    - *Alternatives are `virtualenv` and `pipenv`.* \n",
    "- If you already work with virtual environments, you can skip this step. Otherwise:\n",
    "\n",
    "1. **install Miniconda**:\n",
    "    - either from the [webpage](https://docs.anaconda.com/miniconda/install/)\n",
    "    - or using basic command line: \n",
    "        - Mac`bash Miniconda3-latest-MacOSX-x86_64.sh` \n",
    "        - Windows `Miniconda3-latest-Windows-x86_64.exe`\n",
    "    - follow the prompts (accept default install location)\n",
    "    - initialise: `source ~/.bashrc`\n",
    "    - verify: `conda --version`\n",
    "2. **create a new virtual environment**: in which you install latest Python version, give it the name `dsa`: `conda create -n dsa python=3.11`\n",
    "3. **verify**: by running the conda command that lists all environments: `conda env list`\n",
    "4. **activate the new environment** that you created: `conda activate dsa`\n",
    "5. **list the packages** that are installed within this environment: `conda list`\n",
    "\n",
    "\n",
    "### 3. Create a new Git repo (or clone an existing one)\n",
    "\n",
    "Using version control with git will make your collaborators' and future self's life *a lot* easier. It helps you to track your own changes on a project and to collaborate effectively with your teams. Generally, this part of the work flow will consist of creating a new repo or cloning an existing one from Github. \n",
    "\n",
    "The steps are:\n",
    "\n",
    "1. **install git**: (run `git --version` to check if you already have it installed)\n",
    "2. **clone the existing DS&A labs repository**: such as the one for these labs, run `git clone https://github.com/henrycgbaker/data_structures_and_algorithms_2025.git` and then move into the new directory that this creates, \n",
    "3. **branch**: now create and move into a new branch by running `git checkout -b lab1` (where lab1 is now the name of the branch you have created)\n",
    "\n",
    "### 4. Set up Jupyter Notebooks\n",
    "- Jupyter notebooks are a great way for \n",
    "    - quick experimentation with code, \n",
    "    - to present code, \n",
    "    - or to create data science work flows. \n",
    "- *NB: The final functions and classes (and testing) that you write for a project should **not** sit in Jupyter notebook. Those should be written in `.py` files (aka Python modules) or, even better, in Python packages. We'll get to this in a few weeks...*\n",
    "    - *One best-practice tip: start your code experiments in a Jupyter notebook and once you find yourself using some functions/classes repeatedly or think you might need them in other notebooks, migrate them into Python modules (and later to a package).*\n",
    "\n",
    "To run this Jupyter notebook, follow these steps:\n",
    "1. make sure the `dsa` environment you created in step 2 is activated\n",
    "2. install jupyter into this environment using the `pip install jupyter` command (installing something *into* an environment just means that you need to run the installation command after having activated the environment)\n",
    "3. now move into the directory for the DS&A repository that you cloned in step 3 (called `data_structures_and_algorithms_2025`).\n",
    "4. run `jupyter notebook`; this will start your default browser (or open a new tab) and you should now see a folder structure that includes the Jupyter notebook file `lab1.ipynb`\n",
    "5. click on `lab1.ipynb` to run it and familiarise yourself with the keyboard shortcuts for running cells, creating new cells (above and below the current cell), and removing cells.\n",
    "\n",
    "### 5. Set up your IDE\n",
    "- After step 4., you can now write code in Jupyter notebooks. \n",
    "- For the type of coding necessary for larger (and collaborative) projects, you'll also need an IDE (integrated development environment). IDEs are easier to use than base Jupyter notebook - as run from the command line above.\n",
    "- This is where you'll write classes, functions, helper functions, tests etc. \n",
    "- I recommend VS Code or PyCharm, because it they have many 'intelligent code' features such as code prediction, readability, error detection, easy refactoring, and because it provides debugging tools.\n",
    "- You can either open a project from the IDE, or open the file using the IDE programme. \n",
    "    - The 'more correct' way is to open up the project from the IDE.\n",
    "    - **For VS Code**: \n",
    "        - click the `Explorer` icon on the top left hand corner\n",
    "        - select `Open Folder`\n",
    "        - select the `Interpreter` (top right, also the central top bar), choose the Python installation that is within the `dsa` conda environment you created abov\n",
    "    - **For PyCharm**\n",
    "        - on the `New Project` screen, set the `Location` path to the path to the `data_structures_and_algorithms_2025` directory \n",
    "        - change the radio button from `New encironment using ...` to `Previously configured interpreter`\n",
    "        - in the `Interpreter` dropdown menu, choose the Python installation that is within the `dsa` conda environment you created above"
   ]
  },
  {
   "cell_type": "markdown",
   "metadata": {},
   "source": [
    "## Let's get coding! <a class=\"anchor\" id=\"exercises\"></a>"
   ]
  },
  {
   "cell_type": "markdown",
   "metadata": {
    "collapsed": false,
    "jupyter": {
     "outputs_hidden": false
    },
    "pycharm": {
     "name": "#%% md\n"
    }
   },
   "source": [
    "### Exercise 1\n",
    "Write a function that prints a string to the screen."
   ]
  },
  {
   "cell_type": "code",
   "execution_count": null,
   "metadata": {},
   "outputs": [],
   "source": []
  },
  {
   "cell_type": "code",
   "execution_count": 12,
   "metadata": {
    "collapsed": false,
    "jupyter": {
     "outputs_hidden": false
    },
    "pycharm": {
     "name": "#%%\n"
    }
   },
   "outputs": [],
   "source": [
    "def print_string(x):\n",
    "    \"\"\"\n",
    "    Print the input string\n",
    "    Parameters\n",
    "    ----------\n",
    "    x : a string\n",
    "    \"\"\"\n",
    "\n",
    "    # Implement me"
   ]
  },
  {
   "cell_type": "markdown",
   "metadata": {
    "collapsed": false,
    "jupyter": {
     "outputs_hidden": false
    },
    "pycharm": {
     "name": "#%% md\n"
    }
   },
   "source": [
    "### Exercise 2\n",
    "Write a function that takes a name of a person as an input and prints 'Hello ', followed by the name."
   ]
  },
  {
   "cell_type": "code",
   "execution_count": 17,
   "metadata": {
    "collapsed": false,
    "jupyter": {
     "outputs_hidden": false
    },
    "pycharm": {
     "name": "#%%\n"
    }
   },
   "outputs": [],
   "source": [
    "def greet_someone(x):\n",
    "    \"\"\"\n",
    "    Print 'Hello ' followed by the input string\n",
    "\n",
    "    Parameters\n",
    "    ----------\n",
    "    x : a string\n",
    "    \"\"\"\n",
    "\n",
    "    # Implement me"
   ]
  },
  {
   "cell_type": "markdown",
   "metadata": {
    "collapsed": false,
    "jupyter": {
     "outputs_hidden": false
    },
    "pycharm": {
     "name": "#%% md\n"
    }
   },
   "source": [
    "EXTENSION\n",
    "\n",
    "Try to modify the previous function in a few ways (one step at a time):\n",
    "\n",
    "* ensure that the first letter of the name is capitalised when printed\n",
    "* when the names that are passed are 'Margaret' or 'Henry', they should be greeted with 'Dearest ' instead of 'Hello '\n",
    "* include some more code that checks if the input is a string; if it isn't a string, the function should return `None`. *Hint: Look up how to use the `isinstance()` function; think about where in the function this should go!*\n",
    "* now rewrite this again, this time make the function raise an error if the input is not a string. *Hint: Look up how to deal with a `TypeError` exception in Python.*"
   ]
  },
  {
   "cell_type": "markdown",
   "metadata": {
    "collapsed": false,
    "jupyter": {
     "outputs_hidden": false
    },
    "pycharm": {
     "name": "#%% md\n"
    }
   },
   "source": [
    "### Exercise 3\n",
    "Write a function that takes as an input two numeric values `a` and `b` and returns their sum."
   ]
  },
  {
   "cell_type": "code",
   "execution_count": 21,
   "metadata": {
    "collapsed": false,
    "jupyter": {
     "outputs_hidden": false
    },
    "pycharm": {
     "name": "#%%\n"
    }
   },
   "outputs": [],
   "source": [
    "def sum_two_values(a, b):\n",
    "    \"\"\"\n",
    "    Sum up two numeric values\n",
    "\n",
    "    Parameters\n",
    "    ----------\n",
    "    a : a numeric value\n",
    "    b : a second numeric value\n",
    "    \"\"\"\n",
    "\n",
    "    # Implement me"
   ]
  },
  {
   "cell_type": "markdown",
   "metadata": {
    "collapsed": false,
    "jupyter": {
     "outputs_hidden": false
    },
    "pycharm": {
     "name": "#%% md\n"
    }
   },
   "source": [
    "EXTENSION\n",
    "\n",
    "Try to modify the previous function to:\n",
    "\n",
    "* raise an error if one of the two values is NOT a number. *Hint: Check for the types `int` and `float`.*"
   ]
  },
  {
   "cell_type": "markdown",
   "metadata": {},
   "source": [
    "### Exercise 4\n",
    "Write a function that takes an integer x > 1 as an input and returns the sum of all integers 1 to x (including x)."
   ]
  },
  {
   "cell_type": "code",
   "execution_count": 44,
   "metadata": {},
   "outputs": [],
   "source": [
    "def sum_integers(x):\n",
    "    \"\"\"\n",
    "    Return the sum of integers 1 to x.\n",
    "\n",
    "    Parameters\n",
    "    ----------\n",
    "    x : an integer\n",
    "    \"\"\"\n",
    "\n",
    "    # Implement me"
   ]
  },
  {
   "cell_type": "markdown",
   "metadata": {},
   "source": [
    "EXTENSION\n",
    "\n",
    "Write an alternative version of this function called `sum_integers2` using something called 'list comprehension' and the built-in `sum` function.\n",
    "\n",
    "*TIP: The general syntax for list comprehension is:*\n",
    "```\n",
    "[expression for item in iterable if condition]\n",
    "```"
   ]
  },
  {
   "cell_type": "markdown",
   "metadata": {
    "collapsed": false,
    "jupyter": {
     "outputs_hidden": false
    },
    "pycharm": {
     "name": "#%% md\n"
    }
   },
   "source": [
    "### Exercise 5\n",
    "Write a function that checks if an integer is a multiple of another integer."
   ]
  },
  {
   "cell_type": "code",
   "execution_count": 29,
   "metadata": {
    "collapsed": false,
    "jupyter": {
     "outputs_hidden": false
    },
    "pycharm": {
     "name": "#%%\n"
    }
   },
   "outputs": [],
   "source": [
    "def is_multiple(a, b):\n",
    "    \"\"\"\n",
    "    Return True if integer a is a multiple of integer b.\n",
    "\n",
    "    Parameters\n",
    "    ----------\n",
    "    a : an integer\n",
    "    b : another integer\n",
    "    \"\"\"\n",
    "\n",
    "    # Implement me"
   ]
  },
  {
   "cell_type": "markdown",
   "metadata": {
    "collapsed": false,
    "jupyter": {
     "outputs_hidden": false
    },
    "pycharm": {
     "name": "#%% md\n"
    }
   },
   "source": [
    "### Exercise 6\n",
    "Use the function written in Exercise 5 to write a function that checks if an integer is even."
   ]
  },
  {
   "cell_type": "code",
   "execution_count": 32,
   "metadata": {
    "collapsed": false,
    "jupyter": {
     "outputs_hidden": false
    },
    "pycharm": {
     "name": "#%%\n"
    }
   },
   "outputs": [],
   "source": [
    "def is_even(x):\n",
    "    \"\"\"\n",
    "    Return True if integer x is even.\n",
    "\n",
    "    Parameters\n",
    "    ----------\n",
    "    x : an integer\n",
    "    \"\"\"\n",
    "\n",
    "    # Implement me"
   ]
  },
  {
   "cell_type": "markdown",
   "metadata": {
    "collapsed": false,
    "jupyter": {
     "outputs_hidden": false
    },
    "pycharm": {
     "name": "#%% md\n"
    }
   },
   "source": [
    "### Exercise 7\n",
    "Write a function to determine the sum of all the multiples of 3 or 5 below 1000. *Hint: You could, again, use the function written in Exercise 4 and adapt it using the function written in Exercise 5.*"
   ]
  },
  {
   "cell_type": "code",
   "execution_count": null,
   "metadata": {
    "collapsed": false,
    "jupyter": {
     "outputs_hidden": false
    },
    "pycharm": {
     "name": "#%%\n"
    }
   },
   "outputs": [],
   "source": [
    "def calculate_sum_of_multiples(x):\n",
    "    \"\"\"\n",
    "    Return the sum of multiples of 3 and 5 below the input value x. \n",
    "\n",
    "    Parameters\n",
    "    ----------\n",
    "    x : an integer\n",
    "    \"\"\"\n",
    "    # Implement me"
   ]
  },
  {
   "cell_type": "markdown",
   "metadata": {},
   "source": [
    "EXTENSION\n",
    "\n",
    "Can you do this in one line?"
   ]
  },
  {
   "cell_type": "markdown",
   "metadata": {},
   "source": [
    "### Exercise 8\n",
    "Determine the 20th Fibonacci number. For this, write a function to return the nth term of the Fibonacci sequence, with the first two terms being $x_0 = 0$ and $x_1 = 1$. The Fibonacci sequence continues by adding the previous two terms, so with these two starting values, the first few terms of the sequence are $0, 1, 1, 2, 3, 5, 8, 13, 21, 34, 55, 89, ...$."
   ]
  },
  {
   "cell_type": "code",
   "execution_count": 58,
   "metadata": {},
   "outputs": [],
   "source": [
    "def fibonacci(n):\n",
    "    \"\"\"\n",
    "    Return the nth value in the fibonacci sequence.\n",
    "\n",
    "    Parameters\n",
    "    ----------\n",
    "    n : an integer\n",
    "    \"\"\"\n",
    "\n",
    "    # Implement me"
   ]
  },
  {
   "cell_type": "markdown",
   "metadata": {},
   "source": [
    "### Exercise 9\n",
    "Determine the sum of the even terms in the Fibonacci sequence (below 4 million). *Hint: Write a function that sums even terms below some integer n. Can you use the functions you implemented for Exercises 6 and 8?*"
   ]
  },
  {
   "cell_type": "code",
   "execution_count": 61,
   "metadata": {},
   "outputs": [],
   "source": [
    "def sum_even_fibonacci(x_max):\n",
    "    \"\"\"\n",
    "    Sum even fibonacci numbers below x_max.\n",
    "\n",
    "    Parameters\n",
    "    ----------\n",
    "    x_max : an integer\n",
    "    \"\"\"\n",
    "\n",
    "    # Implement me"
   ]
  }
 ],
 "metadata": {
  "kernelspec": {
   "display_name": "dsa",
   "language": "python",
   "name": "python3"
  },
  "language_info": {
   "codemirror_mode": {
    "name": "ipython",
    "version": 3
   },
   "file_extension": ".py",
   "mimetype": "text/x-python",
   "name": "python",
   "nbconvert_exporter": "python",
   "pygments_lexer": "ipython3",
   "version": "3.11.11"
  }
 },
 "nbformat": 4,
 "nbformat_minor": 4
}
